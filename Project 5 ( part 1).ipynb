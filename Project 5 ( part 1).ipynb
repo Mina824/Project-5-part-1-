{
 "cells": [
  {
   "cell_type": "markdown",
   "id": "df93d4ac-5fc1-4590-adc4-deb7f43e7bfe",
   "metadata": {},
   "source": [
    "# Project 5\n",
    "## Minaya Chanmini Gunawardhana\n",
    "### Part 1 of coding\n",
    "#### 2024/01/10"
   ]
  },
  {
   "cell_type": "code",
   "execution_count": 3,
   "id": "d0e9117a-b79e-4668-a4ab-b9b93d61ecae",
   "metadata": {},
   "outputs": [],
   "source": [
    "import json\n",
    "import os\n",
    "import tkinter as tk    #Tkinter module for UI\n",
    "from tkinter import messagebox, simpledialog #Ask for a string \n",
    "\n",
    "PHONEBOOK_FILE = 'phonebook.json'\n",
    "\n",
    "def load_phonebook():\n",
    "    if os.path.exists(PHONEBOOK_FILE):\n",
    "        with open(PHONEBOOK_FILE, 'r') as file: #Read json from a file\n",
    "            return json.load(file)\n",
    "    return {}\n",
    "\n",
    "def save_phonebook(phonebook):\n",
    "    with open(PHONEBOOK_FILE, 'w') as file: #Write json to a file\n",
    "        json.dump(phonebook, file, indent=4)\n",
    "\n",
    "class PhoneBookApp:\n",
    "    def __init__(self, root):\n",
    "        self.phonebook = load_phonebook()\n",
    "        self.root = root\n",
    "        self.root.title(\"My Phone Book\")\n",
    "\n",
    "       "
   ]
  }
 ],
 "metadata": {
  "kernelspec": {
   "display_name": "Python 3 (ipykernel)",
   "language": "python",
   "name": "python3"
  },
  "language_info": {
   "codemirror_mode": {
    "name": "ipython",
    "version": 3
   },
   "file_extension": ".py",
   "mimetype": "text/x-python",
   "name": "python",
   "nbconvert_exporter": "python",
   "pygments_lexer": "ipython3",
   "version": "3.12.4"
  }
 },
 "nbformat": 4,
 "nbformat_minor": 5
}
